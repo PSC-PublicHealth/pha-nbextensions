{
 "cells": [
  {
   "cell_type": "markdown",
   "metadata": {},
   "source": [
    "## Do this part in a terminal session on a Bridges front end node ##\n",
    "\n",
    "```\n",
    "[welling@br018 ~]$ module load AI/anaconda3-5.1.0_gpu\n",
    "[welling@br018 ~]$ module list\n",
    "Currently Loaded Modulefiles:\n",
    "  1) psc_path/1.1             2) slurm/default            3) intel/17.4               4) anaconda3/5.1.0          5) AI/anaconda3-5.1.0_gpu\n",
    "[welling@br018 ~]$ conda list\n",
    "# packages in environment at /opt/packages/anaconda/anaconda3-5.1.0:\n",
    "#\n",
    "# Name                    Version                   Build  Channel\n",
    "_ipyw_jlab_nb_ext_conf    0.1.0            py36he11e457_0  \n",
    "alabaster                 0.7.10           py36h306e16b_0  \n",
    "anaconda                  5.1.0                    py36_2  \n",
    "anaconda-client           1.6.9                    py36_0  \n",
    "anaconda-navigator        1.7.0                    py36_0  \n",
    "anaconda-project          0.8.2            py36h44fb852_0  \n",
    "asn1crypto                0.24.0                   py36_0  \n",
    "astroid                   1.6.1                    py36_0  \n",
    "astropy                   2.0.3            py36h14c3975_0  \n",
    "attrs                     17.4.0                   py36_0  \n",
    "...and so on...\n",
    "```\n",
    "\n",
    "Let's create a new conda environment and register it as an ipython kernel\n",
    "\n",
    "```\n",
    "[welling@br018 ~]$ conda create --name demo_env python=2\n",
    "Solving environment: done\n",
    "...etc...\n",
    "\n",
    "[welling@br018 ~]$ source activate demo_env\n",
    "(demo_env) [welling@br018 ~]$ which python\n",
    "~/.conda/envs/demo_env/bin/python\n",
    "(demo_env) [welling@br018 ~]$ python --version\n",
    "Python 2.7.15 :: Anaconda, Inc.\n",
    "(demo_env) [welling@br018 ~]$ conda install ipykernel\n",
    "Solving environment: done\n",
    "...etc...\n",
    "\n",
    "(demo_env) [welling@br018 ~]$ python -m ipykernel install --user --name=demo_env\n",
    "Installed kernelspec demo_env in /home/welling/.local/share/jupyter/kernels/demo_env\n",
    "```\n",
    "\n",
    "This next bit is an important trick- it provides a *line magic* we will need later.\n",
    "\n",
    "```\n",
    "(demo_env) [welling@br018 ~]$ pip install git+https://github.com/PSC-PublicHealth/pha-nbextensions.git\n",
    "Collecting git+https://github.com/PSC-PublicHealth/pha-nbextensions.git\n",
    "  Cloning https://github.com/PSC-PublicHealth/pha-nbextensions.git to /tmp/pip-req-build-S251Bg\n",
    "Building wheels for collected packages: pha-nbextensions\n",
    "  Running setup.py bdist_wheel for pha-nbextensions ... done\n",
    "  Stored in directory: /tmp/pip-ephem-wheel-cache-vaB6uY/wheels/71/f7/bf/418b7deab495413370bb686bdf312946e85686f538f01997b8\n",
    "Successfully built pha-nbextensions\n",
    "Installing collected packages: pha-nbextensions\n",
    "Successfully installed pha-nbextensions-0.0.1\n",
    "...etc...\n",
    "(demo_env) [welling@br018 ~]$\n",
    "```\n",
    "\n",
    "Now, when we open a notebook in ondemand.bridges.psc.edu, we can use this new environment."
   ]
  },
  {
   "cell_type": "markdown",
   "metadata": {},
   "source": [
    "## Start up a notebook using this new environment ##\n",
    "\n",
    "Go to https://ondemand.bridges.psc.edu and request an appropriate iPython notebook.  You probably want to include '-C EGRESS' as an 'Extra Arg'.\n",
    "\n",
    "When the notebook starts up, create your 'new notebook' specifying the Conda environment that was just created.\n",
    "\n",
    "![view of kernel select menu](https://github.com/PSC-PublicHealth/pha-nbextensions/doc/images/notebook_startup.png)"
   ]
  },
  {
   "cell_type": "markdown",
   "metadata": {},
   "source": [
    "The module we installed from github.com provides an extension we can use to manipulate the modulefiles environment in which this notebook runs.  This can be useful if some package has a need for a specific compiler or library.  The extension works by carrying out the given instruction in a sub-shell and then importing the environment of the subshell back into the process running the notebook itself."
   ]
  },
  {
   "cell_type": "code",
   "execution_count": 1,
   "metadata": {},
   "outputs": [],
   "source": [
    "# This is the line magic to load the extension...\n",
    "%load_ext update_environment\n"
   ]
  },
  {
   "cell_type": "code",
   "execution_count": 3,
   "metadata": {},
   "outputs": [
    {
     "name": "stdout",
     "output_type": "stream",
     "text": [
      "/opt/packages/anaconda/anaconda3-5.1.0/bin/python\n",
      "/usr/lib64/ccache/gcc\n"
     ]
    }
   ],
   "source": [
    "# The notebook environment may not be quite what we want\n",
    "! which python\n",
    "! which gcc"
   ]
  },
  {
   "cell_type": "code",
   "execution_count": 5,
   "metadata": {},
   "outputs": [],
   "source": [
    "# But now we have line magic to change it\n",
    "%update_environment module load gcc/7.3.0\n",
    "%update_environment source activate demo_env"
   ]
  },
  {
   "cell_type": "code",
   "execution_count": 6,
   "metadata": {},
   "outputs": [
    {
     "name": "stdout",
     "output_type": "stream",
     "text": [
      "/home/welling/.conda/envs/demo_env/bin/python\n",
      "/opt/packages/gcc/7.3.0/bin/gcc\n"
     ]
    }
   ],
   "source": [
    "# The notebook process is now running with the environment updates we specified\n",
    "! which python\n",
    "! which gcc"
   ]
  },
  {
   "cell_type": "code",
   "execution_count": null,
   "metadata": {},
   "outputs": [],
   "source": []
  }
 ],
 "metadata": {
  "kernelspec": {
   "display_name": "demo_env",
   "language": "python",
   "name": "demo_env"
  },
  "language_info": {
   "codemirror_mode": {
    "name": "ipython",
    "version": 2
   },
   "file_extension": ".py",
   "mimetype": "text/x-python",
   "name": "python",
   "nbconvert_exporter": "python",
   "pygments_lexer": "ipython2",
   "version": "2.7.15"
  }
 },
 "nbformat": 4,
 "nbformat_minor": 2
}
