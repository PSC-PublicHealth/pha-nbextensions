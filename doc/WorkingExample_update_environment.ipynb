{
 "cells": [
  {
   "cell_type": "markdown",
   "metadata": {},
   "source": [
    "list the anaconda environments that you have; note that the default Python3 environment is active; this is always the environment under which shell commands are run"
   ]
  },
  {
   "cell_type": "code",
   "execution_count": 2,
   "metadata": {},
   "outputs": [
    {
     "name": "stdout",
     "output_type": "stream",
     "text": [
      "# conda environments:\n",
      "#\n",
      "abm-dev-2                /home/depasse/.conda/envs/abm-dev-2\n",
      "abm_dev                  /home/depasse/.conda/envs/abm_dev\n",
      "dakota-build             /home/depasse/.conda/envs/dakota-build\n",
      "gen3                     /home/depasse/.conda/envs/gen3\n",
      "pagmo2                   /home/depasse/.conda/envs/pagmo2\n",
      "pagmo2-build             /home/depasse/.conda/envs/pagmo2-build\n",
      "pagmo2-python3-build     /home/depasse/.conda/envs/pagmo2-python3-build\n",
      "phil                     /home/depasse/.conda/envs/phil\n",
      "pyrhea                   /home/depasse/.conda/envs/pyrhea\n",
      "base                  *  /opt/packages/anaconda/anaconda3-5.1.0\n",
      "\n"
     ]
    }
   ],
   "source": [
    "!conda env list"
   ]
  },
  {
   "cell_type": "markdown",
   "metadata": {},
   "source": [
    "this next cell activates the environment that you want and registers the environment as a kernel for use in the notebook"
   ]
  },
  {
   "cell_type": "code",
   "execution_count": 10,
   "metadata": {
    "scrolled": true
   },
   "outputs": [
    {
     "name": "stdout",
     "output_type": "stream",
     "text": [
      "INFO: activate-binutils_linux-64.sh made the following environmental changes:\n",
      "+ADDR2LINE=/home/depasse/.conda/envs/gen3/bin/x86_64-conda_cos6-linux-gnu-addr2line\n",
      "+AR=/home/depasse/.conda/envs/gen3/bin/x86_64-conda_cos6-linux-gnu-ar\n",
      "+AS=/home/depasse/.conda/envs/gen3/bin/x86_64-conda_cos6-linux-gnu-as\n",
      "+CXXFILT=/home/depasse/.conda/envs/gen3/bin/x86_64-conda_cos6-linux-gnu-c++filt\n",
      "+ELFEDIT=/home/depasse/.conda/envs/gen3/bin/x86_64-conda_cos6-linux-gnu-elfedit\n",
      "+GPROF=/home/depasse/.conda/envs/gen3/bin/x86_64-conda_cos6-linux-gnu-gprof\n",
      "+HOST=x86_64-conda_cos6-linux-gnu\n",
      "+LD_GOLD=/home/depasse/.conda/envs/gen3/bin/x86_64-conda_cos6-linux-gnu-ld.gold\n",
      "+LD=/home/depasse/.conda/envs/gen3/bin/x86_64-conda_cos6-linux-gnu-ld\n",
      "+NM=/home/depasse/.conda/envs/gen3/bin/x86_64-conda_cos6-linux-gnu-nm\n",
      "+OBJCOPY=/home/depasse/.conda/envs/gen3/bin/x86_64-conda_cos6-linux-gnu-objcopy\n",
      "+OBJDUMP=/home/depasse/.conda/envs/gen3/bin/x86_64-conda_cos6-linux-gnu-objdump\n",
      "+RANLIB=/home/depasse/.conda/envs/gen3/bin/x86_64-conda_cos6-linux-gnu-ranlib\n",
      "+READELF=/home/depasse/.conda/envs/gen3/bin/x86_64-conda_cos6-linux-gnu-readelf\n",
      "+SIZE=/home/depasse/.conda/envs/gen3/bin/x86_64-conda_cos6-linux-gnu-size\n",
      "+STRINGS=/home/depasse/.conda/envs/gen3/bin/x86_64-conda_cos6-linux-gnu-strings\n",
      "+STRIP=/home/depasse/.conda/envs/gen3/bin/x86_64-conda_cos6-linux-gnu-strip\n",
      "INFO: activate-gcc_linux-64.sh made the following environmental changes:\n",
      "+CC=/home/depasse/.conda/envs/gen3/bin/x86_64-conda_cos6-linux-gnu-cc\n",
      "+CFLAGS=-march=nocona -mtune=haswell -ftree-vectorize -fPIC -fstack-protector-strong -fno-plt -O2 -pipe\n",
      "+_CONDA_PYTHON_SYSCONFIGDATA_NAME=_sysconfigdata_x86_64_conda_cos6_linux_gnu\n",
      "+CPPFLAGS=-DNDEBUG -D_FORTIFY_SOURCE=2 -O2\n",
      "+CPP=/home/depasse/.conda/envs/gen3/bin/x86_64-conda_cos6-linux-gnu-cpp\n",
      "+DEBUG_CFLAGS=-march=nocona -mtune=haswell -ftree-vectorize -fPIC -fstack-protector-all -fno-plt -Og -g -Wall -Wextra -fvar-tracking-assignments -pipe\n",
      "+DEBUG_CPPFLAGS=-D_DEBUG -D_FORTIFY_SOURCE=2 -Og\n",
      "+GCC_AR=/home/depasse/.conda/envs/gen3/bin/x86_64-conda_cos6-linux-gnu-gcc-ar\n",
      "+GCC=/home/depasse/.conda/envs/gen3/bin/x86_64-conda_cos6-linux-gnu-gcc\n",
      "+GCC_NM=/home/depasse/.conda/envs/gen3/bin/x86_64-conda_cos6-linux-gnu-gcc-nm\n",
      "+GCC_RANLIB=/home/depasse/.conda/envs/gen3/bin/x86_64-conda_cos6-linux-gnu-gcc-ranlib\n",
      "+LDFLAGS=-Wl,-O2 -Wl,--sort-common -Wl,--as-needed -Wl,-z,relro -Wl,-z,now\n",
      "INFO: activate-gfortran_linux-64.sh made the following environmental changes:\n",
      "+DEBUG_FFLAGS=-fopenmp -march=nocona -mtune=haswell -ftree-vectorize -fPIC -fstack-protector-strong -fno-plt -O2 -pipe -fopenmp -march=nocona -mtune=haswell -ftree-vectorize -fPIC -fstack-protector-all -fno-plt -Og -g -Wall -Wextra -fcheck=all -fbacktrace -fimplicit-none -fvar-tracking-assignments -pipe\n",
      "+DEBUG_FORTRANFLAGS=-fopenmp -march=nocona -mtune=haswell -ftree-vectorize -fPIC -fstack-protector-strong -fno-plt -O2 -pipe -fopenmp -march=nocona -mtune=haswell -ftree-vectorize -fPIC -fstack-protector-all -fno-plt -Og -g -Wall -Wextra -fcheck=all -fbacktrace -fimplicit-none -fvar-tracking-assignments -pipe\n",
      "+F77=/home/depasse/.conda/envs/gen3/bin/x86_64-conda_cos6-linux-gnu-gfortran\n",
      "+F95=/home/depasse/.conda/envs/gen3/bin/x86_64-conda_cos6-linux-gnu-f95\n",
      "+FC=/home/depasse/.conda/envs/gen3/bin/x86_64-conda_cos6-linux-gnu-gfortran\n",
      "+FFLAGS=-fopenmp -march=nocona -mtune=haswell -ftree-vectorize -fPIC -fstack-protector-strong -fno-plt -O2 -pipe\n",
      "+FORTRANFLAGS=-fopenmp -march=nocona -mtune=haswell -ftree-vectorize -fPIC -fstack-protector-strong -fno-plt -O2 -pipe\n",
      "+GFORTRAN=/home/depasse/.conda/envs/gen3/bin/x86_64-conda_cos6-linux-gnu-gfortran\n",
      "INFO: activate-gxx_linux-64.sh made the following environmental changes:\n",
      "+CXXFLAGS=-fvisibility-inlines-hidden -std=c++17 -fmessage-length=0 -march=nocona -mtune=haswell -ftree-vectorize -fPIC -fstack-protector-strong -fno-plt -O2 -pipe\n",
      "+CXX=/home/depasse/.conda/envs/gen3/bin/x86_64-conda_cos6-linux-gnu-c++\n",
      "+DEBUG_CXXFLAGS=-fvisibility-inlines-hidden -std=c++17 -fmessage-length=0 -march=nocona -mtune=haswell -ftree-vectorize -fPIC -fstack-protector-all -fno-plt -Og -g -Wall -Wextra -fvar-tracking-assignments -pipe\n",
      "+GXX=/home/depasse/.conda/envs/gen3/bin/x86_64-conda_cos6-linux-gnu-g++\n",
      "Installed kernelspec gen3 in /home/depasse/.local/share/jupyter/kernels/gen3\n"
     ]
    }
   ],
   "source": [
    "!source activate gen3; python -m ipykernel install --user --name=gen3"
   ]
  },
  {
   "cell_type": "markdown",
   "metadata": {},
   "source": [
    "Now that the kernelspec has been registered, switch the kernel in the jupyter notebook to the\n",
    "environment that you just installed.\n",
    "\n",
    "Then, run these next commands on the login node (with egress access):"
   ]
  },
  {
   "cell_type": "code",
   "execution_count": null,
   "metadata": {},
   "outputs": [],
   "source": [
    "source activate gen3\n",
    "pip install git+https://github.com/PSC-PublicHealth/pha-nbextensions.git"
   ]
  },
  {
   "cell_type": "code",
   "execution_count": 1,
   "metadata": {},
   "outputs": [],
   "source": [
    "%load_ext update_environment # this loads the extension"
   ]
  },
  {
   "cell_type": "code",
   "execution_count": 2,
   "metadata": {},
   "outputs": [
    {
     "name": "stdout",
     "output_type": "stream",
     "text": [
      "/usr/lib64/ccache/gcc\r\n"
     ]
    }
   ],
   "source": [
    "!which gcc"
   ]
  },
  {
   "cell_type": "markdown",
   "metadata": {},
   "source": [
    "this is the actual line magic, here loading a module"
   ]
  },
  {
   "cell_type": "code",
   "execution_count": 3,
   "metadata": {},
   "outputs": [],
   "source": [
    "%update_environment module load gcc/7.3.0"
   ]
  },
  {
   "cell_type": "code",
   "execution_count": 9,
   "metadata": {},
   "outputs": [
    {
     "name": "stdout",
     "output_type": "stream",
     "text": [
      "/opt/packages/gcc/7.3.0/bin/gcc\r\n"
     ]
    }
   ],
   "source": [
    "!which gcc"
   ]
  },
  {
   "cell_type": "code",
   "execution_count": 10,
   "metadata": {},
   "outputs": [],
   "source": [
    "%update_environment source activate gen3"
   ]
  },
  {
   "cell_type": "code",
   "execution_count": 11,
   "metadata": {},
   "outputs": [
    {
     "name": "stdout",
     "output_type": "stream",
     "text": [
      "/home/depasse/.conda/envs/gen3/bin/python\r\n"
     ]
    }
   ],
   "source": [
    "!which python"
   ]
  },
  {
   "cell_type": "code",
   "execution_count": 12,
   "metadata": {},
   "outputs": [
    {
     "name": "stdout",
     "output_type": "stream",
     "text": [
      "# conda environments:\n",
      "#\n",
      "my-tensorflow-env        /opt/packages/anaconda/anaconda3/envs/my-tensorflow-env\n",
      "test                     /opt/packages/anaconda/anaconda3/envs/test\n",
      "abm-dev-2                /home/depasse/.conda/envs/abm-dev-2\n",
      "abm_dev                  /home/depasse/.conda/envs/abm_dev\n",
      "dakota-build             /home/depasse/.conda/envs/dakota-build\n",
      "gen3                  *  /home/depasse/.conda/envs/gen3\n",
      "pagmo2                   /home/depasse/.conda/envs/pagmo2\n",
      "pagmo2-build             /home/depasse/.conda/envs/pagmo2-build\n",
      "pagmo2-python3-build     /home/depasse/.conda/envs/pagmo2-python3-build\n",
      "phil                     /home/depasse/.conda/envs/phil\n",
      "pyrhea                   /home/depasse/.conda/envs/pyrhea\n",
      "root                     /opt/packages/anaconda/anaconda3\n",
      "\n"
     ]
    }
   ],
   "source": [
    "!conda env list"
   ]
  },
  {
   "cell_type": "markdown",
   "metadata": {},
   "source": [
    "QED"
   ]
  }
 ],
 "metadata": {
  "kernelspec": {
   "display_name": "gen3",
   "language": "python",
   "name": "gen3"
  },
  "language_info": {
   "codemirror_mode": {
    "name": "ipython",
    "version": 3
   },
   "file_extension": ".py",
   "mimetype": "text/x-python",
   "name": "python",
   "nbconvert_exporter": "python",
   "pygments_lexer": "ipython3",
   "version": "3.6.5"
  }
 },
 "nbformat": 4,
 "nbformat_minor": 2
}
